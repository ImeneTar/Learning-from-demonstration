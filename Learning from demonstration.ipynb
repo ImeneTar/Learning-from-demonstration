{
 "cells": [
  {
   "cell_type": "code",
   "execution_count": 1,
   "metadata": {},
   "outputs": [],
   "source": [
    "import numpy as np\n",
    "import random"
   ]
  },
  {
   "cell_type": "code",
   "execution_count": 183,
   "metadata": {},
   "outputs": [],
   "source": [
    "class gridworld:\n",
    "    \n",
    "    def __init__(self, conf=None, height=5, width=6):\n",
    "        self.height = height\n",
    "        self.width = width\n",
    "        self.conf = conf\n",
    "        self.grid = self.create_grid()\n",
    "        #self.agent = (random.randint(0,self.height-1), random.randint(0,self.width-1))\n",
    "        self.agent =(0,0)\n",
    "        self.states = height*width\n",
    "        self.actions = 4\n",
    "        self.end = self.get_state([2,5])\n",
    "        \n",
    "    def create_grid(self):\n",
    "        grid= np.zeros((self.height, self.width))\n",
    "        \n",
    "        if self.conf == None:\n",
    "            return grid\n",
    "        \n",
    "        elif self.conf == 'oox':\n",
    "            grid[2,5] = 10  \n",
    "            grid[2, 3:5] = -2\n",
    "            grid[3,4] = -2\n",
    "            grid[4, 1:5] = -2\n",
    "        \n",
    "        elif self.conf == 'oxo':\n",
    "            grid[2,5] = 10  \n",
    "            grid[1, 2:5] = -2\n",
    "            grid[2,2] = -2\n",
    "            grid[3, 2:4] = -2\n",
    "            \n",
    "        elif self.conf == 'xoo':\n",
    "            grid[2,5] = 10  \n",
    "            grid[0, 1:5] = -2\n",
    "            grid[1:4,1] = -2\n",
    "        \n",
    "        elif self.conf == 'oxx':\n",
    "            grid[2,5] = 10  \n",
    "            grid[4, 1] = -2\n",
    "            grid[1:5,2:5] = -2\n",
    "        \n",
    "        elif self.conf == 'xox':\n",
    "            grid[2,5] = 10  \n",
    "            grid[0, 1:5] = -2\n",
    "            grid[1:5,1] = -2\n",
    "            grid[2,3:5] = -2\n",
    "            grid[3,4] = -2\n",
    "            grid[4, 2:5] = -2\n",
    "        \n",
    "        return grid\n",
    "    \n",
    "    def add_points(self, position, point):\n",
    "        self.grid[position] = point\n",
    "        \n",
    "    \n",
    "    def optimal_Q(self, num_episodes, discount_factor = 1.0, epsilon = 0.5):\n",
    "        Q = np.zeros((self.states, self.actions))\n",
    "        \n",
    "        for i in range(num_episodes): \n",
    "            state = random.randint(0, self.states-1)\n",
    "            done = False\n",
    "\n",
    "            while not(done):\n",
    "                \n",
    "                action = self.eps_greedy(Q, epsilon, state)\n",
    "                next_state, reward, done = self.step(state, action)\n",
    "\n",
    "                if done:\n",
    "                    Q[state, action] = reward\n",
    "                else:\n",
    "                    next_action = int(np.where(Q[next_state,:]==float(Q[next_state,:].max()))[0][0])\n",
    "                    Q[state, action] = Q[state, action] + 0.9*(reward + discount_factor * Q[next_state, next_action] - Q[state, action])\n",
    "                \n",
    "                state = next_state\n",
    "             \n",
    "        \n",
    "        states = []\n",
    "        s = self.get_state(self.agent)\n",
    "        \n",
    "        done = False\n",
    "        \n",
    "        while not(done):\n",
    "            states.append(self.get_position(s))\n",
    "            action = int(np.where(Q[s,:]==float(Q[s,:].max()))[0][0])\n",
    "            s, reward, done = self.step(s, action)\n",
    "        \n",
    "\n",
    "        return Q, states\n",
    "        \n",
    "            \n",
    "    \n",
    "    def eps_greedy(self, Q, eps, state):\n",
    "        if random.random() <eps:\n",
    "            a = random.randint(0,3)\n",
    "        else:\n",
    "            a = int(np.where(Q[state,:]==float(Q[state,:].max()))[0][0])\n",
    "        \n",
    "        return a\n",
    "    \n",
    "    def boltzman(self, Q, temp):\n",
    "        pi = np.zeros((self.states, self.actions))\n",
    "        for s in range(self.states):\n",
    "            pi[s,:] = np.exp(Q[s,:]/temp)/(np.exp(Q[s,:]/temp)).sum()\n",
    "            \n",
    "        states = []\n",
    "        s = self.get_state(self.agent)\n",
    "        \n",
    "        done = False\n",
    "        \n",
    "        while not(done):\n",
    "            states.append(self.get_position(s))\n",
    "            action = int(np.where(Q[s,:]==float(np.random.choice(Q[s,:], p=pi[s,:])))[0][0])\n",
    "            s, reward, done = self.step(s, action)\n",
    "        \n",
    "        return pi, states\n",
    "    \n",
    "    def print_policy(self, states):\n",
    "        grid = self.grid.copy()\n",
    "        for s in states: \n",
    "            grid[s] = 1\n",
    "        grid[self.agent] = -1\n",
    "        \n",
    "        return grid\n",
    "            \n",
    "            \n",
    "    \n",
    "    def step(self, state, action):\n",
    "        \"\"\" \n",
    "        Up = 0\n",
    "        down =1\n",
    "        Left = 2\n",
    "        Right = 3\n",
    "        \"\"\"\n",
    "        \n",
    "        x, y = self.get_position(state)\n",
    "        \n",
    "        if (x==0 and action==0) or (x==self.height-1 and action==1) or (y==0 and action==2) or (y==self.width-1 and action==3):\n",
    "            next_s = state\n",
    "            reward = self.grid[x,y]    \n",
    "        else : \n",
    "            next_s , reward = self.get_reward([x,y], action)\n",
    "            \n",
    "        \n",
    "        if next_s == self.end: \n",
    "            done = True\n",
    "        else : \n",
    "            done = False\n",
    "            \n",
    "        return next_s, reward, done\n",
    "    \n",
    "    \n",
    "    \n",
    "    def get_position(self, state):\n",
    "        x = int(state/self.width)\n",
    "        y = state % self.width\n",
    "        return x,y\n",
    "    \n",
    "    def get_state(self, position):\n",
    "        return self.width * position[0] + position[1]\n",
    "        \n",
    "    \n",
    "    def get_reward(self, position, action):\n",
    "        if action == 0:\n",
    "            reward = self.grid[position[0]-1, position[1]]\n",
    "            next_state = self.get_state([position[0]-1, position[1]])\n",
    "        if action == 1:\n",
    "            reward = self.grid[position[0]+1, position[1]]\n",
    "            next_state = self.get_state([position[0]+1, position[1]])\n",
    "            \n",
    "        if action == 2:\n",
    "            reward = self.grid[position[0], position[1]-1]\n",
    "            next_state = self.get_state([position[0], position[1]-1])\n",
    "            \n",
    "        if action == 3:\n",
    "            reward = self.grid[position[0], position[1]+1]\n",
    "            next_state = self.get_state([position[0], position[1]+1])\n",
    "            \n",
    "        return next_state, reward "
   ]
  },
  {
   "cell_type": "code",
   "execution_count": 239,
   "metadata": {},
   "outputs": [],
   "source": [
    "myGrid = gridworld(conf='oxo')"
   ]
  },
  {
   "cell_type": "code",
   "execution_count": 240,
   "metadata": {},
   "outputs": [
    {
     "data": {
      "text/plain": [
       "array([[ 0.,  0.,  0.,  0.,  0.,  0.],\n",
       "       [ 0.,  0., -2., -2., -2.,  0.],\n",
       "       [ 0.,  0., -2.,  0.,  0., 10.],\n",
       "       [ 0.,  0., -2., -2.,  0.,  0.],\n",
       "       [ 0.,  0.,  0.,  0.,  0.,  0.]])"
      ]
     },
     "execution_count": 240,
     "metadata": {},
     "output_type": "execute_result"
    }
   ],
   "source": [
    "myGrid.grid"
   ]
  },
  {
   "cell_type": "code",
   "execution_count": 241,
   "metadata": {},
   "outputs": [],
   "source": [
    "Q, S = myGrid.optimal_Q(num_episodes = 50)"
   ]
  },
  {
   "cell_type": "code",
   "execution_count": 242,
   "metadata": {},
   "outputs": [
    {
     "data": {
      "text/plain": [
       "array([[-1.,  1.,  1.,  1.,  1.,  1.],\n",
       "       [ 0.,  0., -2., -2., -2.,  1.],\n",
       "       [ 0.,  0., -2.,  0.,  0., 10.],\n",
       "       [ 0.,  0., -2., -2.,  0.,  0.],\n",
       "       [ 0.,  0.,  0.,  0.,  0.,  0.]])"
      ]
     },
     "execution_count": 242,
     "metadata": {},
     "output_type": "execute_result"
    }
   ],
   "source": [
    "myGrid.print_policy(S)"
   ]
  },
  {
   "cell_type": "code",
   "execution_count": 158,
   "metadata": {},
   "outputs": [],
   "source": [
    "pi, S2 = myGrid.boltzman(Q, 10)"
   ]
  },
  {
   "cell_type": "code",
   "execution_count": 159,
   "metadata": {},
   "outputs": [
    {
     "data": {
      "text/plain": [
       "array([[-1.,  1.,  1.,  1.,  1.,  0.],\n",
       "       [ 1.,  1.,  1.,  1.,  1.,  1.],\n",
       "       [ 0.,  0.,  1.,  1., -2., 10.],\n",
       "       [ 0.,  0.,  1.,  1., -2.,  0.],\n",
       "       [ 0., -2.,  1., -2., -2.,  0.]])"
      ]
     },
     "execution_count": 159,
     "metadata": {},
     "output_type": "execute_result"
    }
   ],
   "source": [
    "myGrid.print_policy(S2)"
   ]
  },
  {
   "cell_type": "code",
   "execution_count": 72,
   "metadata": {},
   "outputs": [],
   "source": [
    "import matplotlib.pyplot as plt"
   ]
  },
  {
   "cell_type": "code",
   "execution_count": 124,
   "metadata": {},
   "outputs": [
    {
     "data": {
      "image/png": "[encoded data removed]",
      "text/plain": [
       "<Figure size 432x288 with 1 Axes>"
      ]
     },
     "metadata": {
      "needs_background": "light"
     },
     "output_type": "display_data"
    }
   ],
   "source": [
    "plt.bar(range(4), pi[12])\n",
    "plt.xticks(range(4), ['up', 'down', 'left', 'right'],rotation = 45)\n",
    "plt.title(\"Température = 10\")\n",
    "plt.show()"
   ]
  }
 ],
 "metadata": {
  "kernelspec": {
   "display_name": "Python 3",
   "language": "python",
   "name": "python3"
  },
  "language_info": {
   "codemirror_mode": {
    "name": "ipython",
    "version": 3
   },
   "file_extension": ".py",
   "mimetype": "text/x-python",
   "name": "python",
   "nbconvert_exporter": "python",
   "pygments_lexer": "ipython3",
   "version": "3.7.7"
  }
 },
 "nbformat": 4,
 "nbformat_minor": 4
}
